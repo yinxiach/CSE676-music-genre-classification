{
 "cells": [
  {
   "cell_type": "markdown",
   "id": "66bd20d9",
   "metadata": {},
   "source": [
    "# Preprocessing"
   ]
  },
  {
   "cell_type": "code",
   "execution_count": 1,
   "id": "2f627488",
   "metadata": {},
   "outputs": [],
   "source": [
    "# Libraries\n",
    "import cv2\n",
    "import pandas as pd\n",
    "import numpy as np\n",
    "import seaborn as sns\n",
    "import matplotlib.pyplot as plt\n",
    "%matplotlib inline\n",
    "import sklearn\n",
    "\n",
    "import librosa\n",
    "import librosa.display\n",
    "import IPython.display as ipd\n",
    "import io\n",
    "from PIL import Image\n",
    "from array import *\n",
    "import tensorflow as tf\n",
    "\n",
    "import keras\n",
    "from keras.models import Sequential\n",
    "from tensorflow.keras.utils import to_categorical\n",
    "#from keras.utils import to_categorical\n",
    "\n",
    "from keras.layers import Dense, Conv2D, MaxPooling2D, Dropout, Flatten"
   ]
  },
  {
   "cell_type": "code",
   "execution_count": 2,
   "id": "8b25c08a",
   "metadata": {},
   "outputs": [
    {
     "data": {
      "text/plain": [
       "{'blues': 0,\n",
       " 'classical': 1,\n",
       " 'country': 2,\n",
       " 'disco': 3,\n",
       " 'hiphop': 4,\n",
       " 'jazz': 5,\n",
       " 'metal': 6,\n",
       " 'pop': 7,\n",
       " 'reggae': 8,\n",
       " 'rock': 9}"
      ]
     },
     "metadata": {},
     "output_type": "display_data"
    }
   ],
   "source": [
    "import os\n",
    "general_path = \"C:/Users/Muhammad Faique/Box/Deep Learning/Project/archive (3)/Data\" #The folder that contain data\n",
    "n_fft = 2048 #FFT window size\n",
    "hop_length = 512 #default number audio of frames between STFT columns \n",
    "\n",
    "label = list(os.listdir(f'{general_path}/genres_original/'))  #get label's name from folder name\n",
    "\n",
    "#construct label's corresponding index\n",
    "index = list(range(len(label)))  \n",
    "label_dict = dict(zip(label,index))\n",
    "\n",
    "\n",
    "display(label_dict)"
   ]
  },
  {
   "cell_type": "code",
   "execution_count": 3,
   "id": "fe4dcfd2",
   "metadata": {},
   "outputs": [],
   "source": [
    "#The method takes the figure of a matplotib as input, and return a corresponding x * y * 3 dataset of the figure.\n",
    "#x is the width of the figure, y is the height of the figure, the set of size 3 infer the RGB data of the figure.\n",
    "# each block of 3 data contains the information of the RGB value of the pixel at (x,y)\n",
    "def fig2cifar(fig):\n",
    "\n",
    "    buf = io.BytesIO()\n",
    "    fig.savefig(buf)\n",
    "    buf.seek(0)\n",
    "    img = Image.open(buf)\n",
    "    pix = img.load()\n",
    "    width, height = img.size \n",
    "    data = np.empty(( height, width, 3),dtype = np.uint8)\n",
    "\n",
    "    for x in range(0,width):\n",
    "        for y in range(0,height):\n",
    "            data[y][x] = np.asarray(pix[x,y][:-1])\n",
    "\n",
    "    buf.close()\n",
    "    \n",
    "    return data"
   ]
  },
  {
   "cell_type": "code",
   "execution_count": 4,
   "id": "6ae0dec0",
   "metadata": {},
   "outputs": [],
   "source": [
    "y = np.empty((210, 1), dtype = np.uint8)"
   ]
  },
  {
   "cell_type": "code",
   "execution_count": 5,
   "id": "b0aef354",
   "metadata": {},
   "outputs": [
    {
     "data": {
      "text/plain": [
       "'C:/Users/Muhammad Faique/Box/Deep Learning/Project/archive (3)/Data/genres_original/blues/blues.00000.wav done'"
      ]
     },
     "metadata": {},
     "output_type": "display_data"
    },
    {
     "data": {
      "text/plain": [
       "'C:/Users/Muhammad Faique/Box/Deep Learning/Project/archive (3)/Data/genres_original/blues/blues.00001.wav done'"
      ]
     },
     "metadata": {},
     "output_type": "display_data"
    },
    {
     "data": {
      "text/plain": [
       "'C:/Users/Muhammad Faique/Box/Deep Learning/Project/archive (3)/Data/genres_original/blues/blues.00002.wav done'"
      ]
     },
     "metadata": {},
     "output_type": "display_data"
    },
    {
     "data": {
      "text/plain": [
       "'C:/Users/Muhammad Faique/Box/Deep Learning/Project/archive (3)/Data/genres_original/blues/blues.00003.wav done'"
      ]
     },
     "metadata": {},
     "output_type": "display_data"
    },
    {
     "data": {
      "text/plain": [
       "'C:/Users/Muhammad Faique/Box/Deep Learning/Project/archive (3)/Data/genres_original/blues/blues.00004.wav done'"
      ]
     },
     "metadata": {},
     "output_type": "display_data"
    },
    {
     "data": {
      "text/plain": [
       "'C:/Users/Muhammad Faique/Box/Deep Learning/Project/archive (3)/Data/genres_original/blues/blues.00005.wav done'"
      ]
     },
     "metadata": {},
     "output_type": "display_data"
    },
    {
     "data": {
      "text/plain": [
       "'C:/Users/Muhammad Faique/Box/Deep Learning/Project/archive (3)/Data/genres_original/blues/blues.00006.wav done'"
      ]
     },
     "metadata": {},
     "output_type": "display_data"
    },
    {
     "data": {
      "text/plain": [
       "'C:/Users/Muhammad Faique/Box/Deep Learning/Project/archive (3)/Data/genres_original/blues/blues.00007.wav done'"
      ]
     },
     "metadata": {},
     "output_type": "display_data"
    },
    {
     "data": {
      "text/plain": [
       "'C:/Users/Muhammad Faique/Box/Deep Learning/Project/archive (3)/Data/genres_original/blues/blues.00008.wav done'"
      ]
     },
     "metadata": {},
     "output_type": "display_data"
    },
    {
     "data": {
      "text/plain": [
       "'C:/Users/Muhammad Faique/Box/Deep Learning/Project/archive (3)/Data/genres_original/blues/blues.00009.wav done'"
      ]
     },
     "metadata": {},
     "output_type": "display_data"
    },
    {
     "data": {
      "text/plain": [
       "'C:/Users/Muhammad Faique/Box/Deep Learning/Project/archive (3)/Data/genres_original/blues/blues.00010.wav done'"
      ]
     },
     "metadata": {},
     "output_type": "display_data"
    },
    {
     "data": {
      "text/plain": [
       "'C:/Users/Muhammad Faique/Box/Deep Learning/Project/archive (3)/Data/genres_original/blues/blues.00011.wav done'"
      ]
     },
     "metadata": {},
     "output_type": "display_data"
    },
    {
     "data": {
      "text/plain": [
       "'C:/Users/Muhammad Faique/Box/Deep Learning/Project/archive (3)/Data/genres_original/blues/blues.00012.wav done'"
      ]
     },
     "metadata": {},
     "output_type": "display_data"
    },
    {
     "data": {
      "text/plain": [
       "'C:/Users/Muhammad Faique/Box/Deep Learning/Project/archive (3)/Data/genres_original/blues/blues.00013.wav done'"
      ]
     },
     "metadata": {},
     "output_type": "display_data"
    },
    {
     "data": {
      "text/plain": [
       "'C:/Users/Muhammad Faique/Box/Deep Learning/Project/archive (3)/Data/genres_original/blues/blues.00014.wav done'"
      ]
     },
     "metadata": {},
     "output_type": "display_data"
    },
    {
     "data": {
      "text/plain": [
       "'C:/Users/Muhammad Faique/Box/Deep Learning/Project/archive (3)/Data/genres_original/blues/blues.00015.wav done'"
      ]
     },
     "metadata": {},
     "output_type": "display_data"
    },
    {
     "data": {
      "text/plain": [
       "'C:/Users/Muhammad Faique/Box/Deep Learning/Project/archive (3)/Data/genres_original/blues/blues.00016.wav done'"
      ]
     },
     "metadata": {},
     "output_type": "display_data"
    },
    {
     "data": {
      "text/plain": [
       "'C:/Users/Muhammad Faique/Box/Deep Learning/Project/archive (3)/Data/genres_original/blues/blues.00017.wav done'"
      ]
     },
     "metadata": {},
     "output_type": "display_data"
    },
    {
     "data": {
      "text/plain": [
       "'C:/Users/Muhammad Faique/Box/Deep Learning/Project/archive (3)/Data/genres_original/blues/blues.00018.wav done'"
      ]
     },
     "metadata": {},
     "output_type": "display_data"
    },
    {
     "data": {
      "text/plain": [
       "'C:/Users/Muhammad Faique/Box/Deep Learning/Project/archive (3)/Data/genres_original/blues/blues.00019.wav done'"
      ]
     },
     "metadata": {},
     "output_type": "display_data"
    },
    {
     "data": {
      "text/plain": [
       "'C:/Users/Muhammad Faique/Box/Deep Learning/Project/archive (3)/Data/genres_original/blues/blues.00020.wav done'"
      ]
     },
     "metadata": {},
     "output_type": "display_data"
    },
    {
     "data": {
      "text/plain": [
       "'C:/Users/Muhammad Faique/Box/Deep Learning/Project/archive (3)/Data/genres_original/classical/classical.00000.wav done'"
      ]
     },
     "metadata": {},
     "output_type": "display_data"
    },
    {
     "data": {
      "text/plain": [
       "'C:/Users/Muhammad Faique/Box/Deep Learning/Project/archive (3)/Data/genres_original/classical/classical.00001.wav done'"
      ]
     },
     "metadata": {},
     "output_type": "display_data"
    },
    {
     "data": {
      "text/plain": [
       "'C:/Users/Muhammad Faique/Box/Deep Learning/Project/archive (3)/Data/genres_original/classical/classical.00002.wav done'"
      ]
     },
     "metadata": {},
     "output_type": "display_data"
    },
    {
     "data": {
      "text/plain": [
       "'C:/Users/Muhammad Faique/Box/Deep Learning/Project/archive (3)/Data/genres_original/classical/classical.00003.wav done'"
      ]
     },
     "metadata": {},
     "output_type": "display_data"
    },
    {
     "data": {
      "text/plain": [
       "'C:/Users/Muhammad Faique/Box/Deep Learning/Project/archive (3)/Data/genres_original/classical/classical.00004.wav done'"
      ]
     },
     "metadata": {},
     "output_type": "display_data"
    },
    {
     "data": {
      "text/plain": [
       "'C:/Users/Muhammad Faique/Box/Deep Learning/Project/archive (3)/Data/genres_original/classical/classical.00005.wav done'"
      ]
     },
     "metadata": {},
     "output_type": "display_data"
    },
    {
     "data": {
      "text/plain": [
       "'C:/Users/Muhammad Faique/Box/Deep Learning/Project/archive (3)/Data/genres_original/classical/classical.00006.wav done'"
      ]
     },
     "metadata": {},
     "output_type": "display_data"
    },
    {
     "data": {
      "text/plain": [
       "'C:/Users/Muhammad Faique/Box/Deep Learning/Project/archive (3)/Data/genres_original/classical/classical.00007.wav done'"
      ]
     },
     "metadata": {},
     "output_type": "display_data"
    },
    {
     "data": {
      "text/plain": [
       "'C:/Users/Muhammad Faique/Box/Deep Learning/Project/archive (3)/Data/genres_original/classical/classical.00008.wav done'"
      ]
     },
     "metadata": {},
     "output_type": "display_data"
    },
    {
     "data": {
      "text/plain": [
       "'C:/Users/Muhammad Faique/Box/Deep Learning/Project/archive (3)/Data/genres_original/classical/classical.00009.wav done'"
      ]
     },
     "metadata": {},
     "output_type": "display_data"
    },
    {
     "data": {
      "text/plain": [
       "'C:/Users/Muhammad Faique/Box/Deep Learning/Project/archive (3)/Data/genres_original/classical/classical.00010.wav done'"
      ]
     },
     "metadata": {},
     "output_type": "display_data"
    },
    {
     "data": {
      "text/plain": [
       "'C:/Users/Muhammad Faique/Box/Deep Learning/Project/archive (3)/Data/genres_original/classical/classical.00011.wav done'"
      ]
     },
     "metadata": {},
     "output_type": "display_data"
    },
    {
     "data": {
      "text/plain": [
       "'C:/Users/Muhammad Faique/Box/Deep Learning/Project/archive (3)/Data/genres_original/classical/classical.00012.wav done'"
      ]
     },
     "metadata": {},
     "output_type": "display_data"
    },
    {
     "data": {
      "text/plain": [
       "'C:/Users/Muhammad Faique/Box/Deep Learning/Project/archive (3)/Data/genres_original/classical/classical.00013.wav done'"
      ]
     },
     "metadata": {},
     "output_type": "display_data"
    },
    {
     "data": {
      "text/plain": [
       "'C:/Users/Muhammad Faique/Box/Deep Learning/Project/archive (3)/Data/genres_original/classical/classical.00014.wav done'"
      ]
     },
     "metadata": {},
     "output_type": "display_data"
    },
    {
     "data": {
      "text/plain": [
       "'C:/Users/Muhammad Faique/Box/Deep Learning/Project/archive (3)/Data/genres_original/classical/classical.00015.wav done'"
      ]
     },
     "metadata": {},
     "output_type": "display_data"
    },
    {
     "data": {
      "text/plain": [
       "'C:/Users/Muhammad Faique/Box/Deep Learning/Project/archive (3)/Data/genres_original/classical/classical.00016.wav done'"
      ]
     },
     "metadata": {},
     "output_type": "display_data"
    },
    {
     "data": {
      "text/plain": [
       "'C:/Users/Muhammad Faique/Box/Deep Learning/Project/archive (3)/Data/genres_original/classical/classical.00017.wav done'"
      ]
     },
     "metadata": {},
     "output_type": "display_data"
    },
    {
     "data": {
      "text/plain": [
       "'C:/Users/Muhammad Faique/Box/Deep Learning/Project/archive (3)/Data/genres_original/classical/classical.00018.wav done'"
      ]
     },
     "metadata": {},
     "output_type": "display_data"
    },
    {
     "data": {
      "text/plain": [
       "'C:/Users/Muhammad Faique/Box/Deep Learning/Project/archive (3)/Data/genres_original/classical/classical.00019.wav done'"
      ]
     },
     "metadata": {},
     "output_type": "display_data"
    },
    {
     "data": {
      "text/plain": [
       "'C:/Users/Muhammad Faique/Box/Deep Learning/Project/archive (3)/Data/genres_original/classical/classical.00020.wav done'"
      ]
     },
     "metadata": {},
     "output_type": "display_data"
    },
    {
     "data": {
      "text/plain": [
       "'C:/Users/Muhammad Faique/Box/Deep Learning/Project/archive (3)/Data/genres_original/country/country.00000.wav done'"
      ]
     },
     "metadata": {},
     "output_type": "display_data"
    },
    {
     "data": {
      "text/plain": [
       "'C:/Users/Muhammad Faique/Box/Deep Learning/Project/archive (3)/Data/genres_original/country/country.00001.wav done'"
      ]
     },
     "metadata": {},
     "output_type": "display_data"
    },
    {
     "data": {
      "text/plain": [
       "'C:/Users/Muhammad Faique/Box/Deep Learning/Project/archive (3)/Data/genres_original/country/country.00002.wav done'"
      ]
     },
     "metadata": {},
     "output_type": "display_data"
    },
    {
     "data": {
      "text/plain": [
       "'C:/Users/Muhammad Faique/Box/Deep Learning/Project/archive (3)/Data/genres_original/country/country.00003.wav done'"
      ]
     },
     "metadata": {},
     "output_type": "display_data"
    },
    {
     "data": {
      "text/plain": [
       "'C:/Users/Muhammad Faique/Box/Deep Learning/Project/archive (3)/Data/genres_original/country/country.00004.wav done'"
      ]
     },
     "metadata": {},
     "output_type": "display_data"
    },
    {
     "data": {
      "text/plain": [
       "'C:/Users/Muhammad Faique/Box/Deep Learning/Project/archive (3)/Data/genres_original/country/country.00005.wav done'"
      ]
     },
     "metadata": {},
     "output_type": "display_data"
    },
    {
     "data": {
      "text/plain": [
       "'C:/Users/Muhammad Faique/Box/Deep Learning/Project/archive (3)/Data/genres_original/country/country.00006.wav done'"
      ]
     },
     "metadata": {},
     "output_type": "display_data"
    },
    {
     "data": {
      "text/plain": [
       "'C:/Users/Muhammad Faique/Box/Deep Learning/Project/archive (3)/Data/genres_original/country/country.00007.wav done'"
      ]
     },
     "metadata": {},
     "output_type": "display_data"
    },
    {
     "data": {
      "text/plain": [
       "'C:/Users/Muhammad Faique/Box/Deep Learning/Project/archive (3)/Data/genres_original/country/country.00008.wav done'"
      ]
     },
     "metadata": {},
     "output_type": "display_data"
    },
    {
     "data": {
      "text/plain": [
       "'C:/Users/Muhammad Faique/Box/Deep Learning/Project/archive (3)/Data/genres_original/country/country.00009.wav done'"
      ]
     },
     "metadata": {},
     "output_type": "display_data"
    },
    {
     "data": {
      "text/plain": [
       "'C:/Users/Muhammad Faique/Box/Deep Learning/Project/archive (3)/Data/genres_original/country/country.00010.wav done'"
      ]
     },
     "metadata": {},
     "output_type": "display_data"
    },
    {
     "data": {
      "text/plain": [
       "'C:/Users/Muhammad Faique/Box/Deep Learning/Project/archive (3)/Data/genres_original/country/country.00011.wav done'"
      ]
     },
     "metadata": {},
     "output_type": "display_data"
    },
    {
     "data": {
      "text/plain": [
       "'C:/Users/Muhammad Faique/Box/Deep Learning/Project/archive (3)/Data/genres_original/country/country.00012.wav done'"
      ]
     },
     "metadata": {},
     "output_type": "display_data"
    },
    {
     "data": {
      "text/plain": [
       "'C:/Users/Muhammad Faique/Box/Deep Learning/Project/archive (3)/Data/genres_original/country/country.00013.wav done'"
      ]
     },
     "metadata": {},
     "output_type": "display_data"
    },
    {
     "data": {
      "text/plain": [
       "'C:/Users/Muhammad Faique/Box/Deep Learning/Project/archive (3)/Data/genres_original/country/country.00014.wav done'"
      ]
     },
     "metadata": {},
     "output_type": "display_data"
    },
    {
     "data": {
      "text/plain": [
       "'C:/Users/Muhammad Faique/Box/Deep Learning/Project/archive (3)/Data/genres_original/country/country.00015.wav done'"
      ]
     },
     "metadata": {},
     "output_type": "display_data"
    },
    {
     "data": {
      "text/plain": [
       "'C:/Users/Muhammad Faique/Box/Deep Learning/Project/archive (3)/Data/genres_original/country/country.00016.wav done'"
      ]
     },
     "metadata": {},
     "output_type": "display_data"
    },
    {
     "data": {
      "text/plain": [
       "'C:/Users/Muhammad Faique/Box/Deep Learning/Project/archive (3)/Data/genres_original/country/country.00017.wav done'"
      ]
     },
     "metadata": {},
     "output_type": "display_data"
    },
    {
     "data": {
      "text/plain": [
       "'C:/Users/Muhammad Faique/Box/Deep Learning/Project/archive (3)/Data/genres_original/country/country.00018.wav done'"
      ]
     },
     "metadata": {},
     "output_type": "display_data"
    },
    {
     "data": {
      "text/plain": [
       "'C:/Users/Muhammad Faique/Box/Deep Learning/Project/archive (3)/Data/genres_original/country/country.00019.wav done'"
      ]
     },
     "metadata": {},
     "output_type": "display_data"
    },
    {
     "data": {
      "text/plain": [
       "'C:/Users/Muhammad Faique/Box/Deep Learning/Project/archive (3)/Data/genres_original/country/country.00020.wav done'"
      ]
     },
     "metadata": {},
     "output_type": "display_data"
    },
    {
     "data": {
      "text/plain": [
       "'C:/Users/Muhammad Faique/Box/Deep Learning/Project/archive (3)/Data/genres_original/disco/disco.00000.wav done'"
      ]
     },
     "metadata": {},
     "output_type": "display_data"
    },
    {
     "data": {
      "text/plain": [
       "'C:/Users/Muhammad Faique/Box/Deep Learning/Project/archive (3)/Data/genres_original/disco/disco.00001.wav done'"
      ]
     },
     "metadata": {},
     "output_type": "display_data"
    },
    {
     "data": {
      "text/plain": [
       "'C:/Users/Muhammad Faique/Box/Deep Learning/Project/archive (3)/Data/genres_original/disco/disco.00002.wav done'"
      ]
     },
     "metadata": {},
     "output_type": "display_data"
    },
    {
     "data": {
      "text/plain": [
       "'C:/Users/Muhammad Faique/Box/Deep Learning/Project/archive (3)/Data/genres_original/disco/disco.00003.wav done'"
      ]
     },
     "metadata": {},
     "output_type": "display_data"
    },
    {
     "data": {
      "text/plain": [
       "'C:/Users/Muhammad Faique/Box/Deep Learning/Project/archive (3)/Data/genres_original/disco/disco.00004.wav done'"
      ]
     },
     "metadata": {},
     "output_type": "display_data"
    },
    {
     "data": {
      "text/plain": [
       "'C:/Users/Muhammad Faique/Box/Deep Learning/Project/archive (3)/Data/genres_original/disco/disco.00005.wav done'"
      ]
     },
     "metadata": {},
     "output_type": "display_data"
    },
    {
     "data": {
      "text/plain": [
       "'C:/Users/Muhammad Faique/Box/Deep Learning/Project/archive (3)/Data/genres_original/disco/disco.00006.wav done'"
      ]
     },
     "metadata": {},
     "output_type": "display_data"
    },
    {
     "data": {
      "text/plain": [
       "'C:/Users/Muhammad Faique/Box/Deep Learning/Project/archive (3)/Data/genres_original/disco/disco.00007.wav done'"
      ]
     },
     "metadata": {},
     "output_type": "display_data"
    },
    {
     "data": {
      "text/plain": [
       "'C:/Users/Muhammad Faique/Box/Deep Learning/Project/archive (3)/Data/genres_original/disco/disco.00008.wav done'"
      ]
     },
     "metadata": {},
     "output_type": "display_data"
    },
    {
     "data": {
      "text/plain": [
       "'C:/Users/Muhammad Faique/Box/Deep Learning/Project/archive (3)/Data/genres_original/disco/disco.00009.wav done'"
      ]
     },
     "metadata": {},
     "output_type": "display_data"
    },
    {
     "data": {
      "text/plain": [
       "'C:/Users/Muhammad Faique/Box/Deep Learning/Project/archive (3)/Data/genres_original/disco/disco.00010.wav done'"
      ]
     },
     "metadata": {},
     "output_type": "display_data"
    },
    {
     "data": {
      "text/plain": [
       "'C:/Users/Muhammad Faique/Box/Deep Learning/Project/archive (3)/Data/genres_original/disco/disco.00011.wav done'"
      ]
     },
     "metadata": {},
     "output_type": "display_data"
    },
    {
     "data": {
      "text/plain": [
       "'C:/Users/Muhammad Faique/Box/Deep Learning/Project/archive (3)/Data/genres_original/disco/disco.00012.wav done'"
      ]
     },
     "metadata": {},
     "output_type": "display_data"
    },
    {
     "data": {
      "text/plain": [
       "'C:/Users/Muhammad Faique/Box/Deep Learning/Project/archive (3)/Data/genres_original/disco/disco.00013.wav done'"
      ]
     },
     "metadata": {},
     "output_type": "display_data"
    },
    {
     "data": {
      "text/plain": [
       "'C:/Users/Muhammad Faique/Box/Deep Learning/Project/archive (3)/Data/genres_original/disco/disco.00014.wav done'"
      ]
     },
     "metadata": {},
     "output_type": "display_data"
    },
    {
     "data": {
      "text/plain": [
       "'C:/Users/Muhammad Faique/Box/Deep Learning/Project/archive (3)/Data/genres_original/disco/disco.00015.wav done'"
      ]
     },
     "metadata": {},
     "output_type": "display_data"
    },
    {
     "data": {
      "text/plain": [
       "'C:/Users/Muhammad Faique/Box/Deep Learning/Project/archive (3)/Data/genres_original/disco/disco.00016.wav done'"
      ]
     },
     "metadata": {},
     "output_type": "display_data"
    },
    {
     "data": {
      "text/plain": [
       "'C:/Users/Muhammad Faique/Box/Deep Learning/Project/archive (3)/Data/genres_original/disco/disco.00017.wav done'"
      ]
     },
     "metadata": {},
     "output_type": "display_data"
    },
    {
     "data": {
      "text/plain": [
       "'C:/Users/Muhammad Faique/Box/Deep Learning/Project/archive (3)/Data/genres_original/disco/disco.00018.wav done'"
      ]
     },
     "metadata": {},
     "output_type": "display_data"
    },
    {
     "data": {
      "text/plain": [
       "'C:/Users/Muhammad Faique/Box/Deep Learning/Project/archive (3)/Data/genres_original/disco/disco.00019.wav done'"
      ]
     },
     "metadata": {},
     "output_type": "display_data"
    },
    {
     "data": {
      "text/plain": [
       "'C:/Users/Muhammad Faique/Box/Deep Learning/Project/archive (3)/Data/genres_original/disco/disco.00020.wav done'"
      ]
     },
     "metadata": {},
     "output_type": "display_data"
    },
    {
     "data": {
      "text/plain": [
       "'C:/Users/Muhammad Faique/Box/Deep Learning/Project/archive (3)/Data/genres_original/hiphop/hiphop.00000.wav done'"
      ]
     },
     "metadata": {},
     "output_type": "display_data"
    },
    {
     "data": {
      "text/plain": [
       "'C:/Users/Muhammad Faique/Box/Deep Learning/Project/archive (3)/Data/genres_original/hiphop/hiphop.00001.wav done'"
      ]
     },
     "metadata": {},
     "output_type": "display_data"
    },
    {
     "data": {
      "text/plain": [
       "'C:/Users/Muhammad Faique/Box/Deep Learning/Project/archive (3)/Data/genres_original/hiphop/hiphop.00002.wav done'"
      ]
     },
     "metadata": {},
     "output_type": "display_data"
    },
    {
     "data": {
      "text/plain": [
       "'C:/Users/Muhammad Faique/Box/Deep Learning/Project/archive (3)/Data/genres_original/hiphop/hiphop.00003.wav done'"
      ]
     },
     "metadata": {},
     "output_type": "display_data"
    },
    {
     "data": {
      "text/plain": [
       "'C:/Users/Muhammad Faique/Box/Deep Learning/Project/archive (3)/Data/genres_original/hiphop/hiphop.00004.wav done'"
      ]
     },
     "metadata": {},
     "output_type": "display_data"
    },
    {
     "data": {
      "text/plain": [
       "'C:/Users/Muhammad Faique/Box/Deep Learning/Project/archive (3)/Data/genres_original/hiphop/hiphop.00005.wav done'"
      ]
     },
     "metadata": {},
     "output_type": "display_data"
    },
    {
     "data": {
      "text/plain": [
       "'C:/Users/Muhammad Faique/Box/Deep Learning/Project/archive (3)/Data/genres_original/hiphop/hiphop.00006.wav done'"
      ]
     },
     "metadata": {},
     "output_type": "display_data"
    },
    {
     "data": {
      "text/plain": [
       "'C:/Users/Muhammad Faique/Box/Deep Learning/Project/archive (3)/Data/genres_original/hiphop/hiphop.00007.wav done'"
      ]
     },
     "metadata": {},
     "output_type": "display_data"
    },
    {
     "data": {
      "text/plain": [
       "'C:/Users/Muhammad Faique/Box/Deep Learning/Project/archive (3)/Data/genres_original/hiphop/hiphop.00008.wav done'"
      ]
     },
     "metadata": {},
     "output_type": "display_data"
    },
    {
     "data": {
      "text/plain": [
       "'C:/Users/Muhammad Faique/Box/Deep Learning/Project/archive (3)/Data/genres_original/hiphop/hiphop.00009.wav done'"
      ]
     },
     "metadata": {},
     "output_type": "display_data"
    },
    {
     "data": {
      "text/plain": [
       "'C:/Users/Muhammad Faique/Box/Deep Learning/Project/archive (3)/Data/genres_original/hiphop/hiphop.00010.wav done'"
      ]
     },
     "metadata": {},
     "output_type": "display_data"
    },
    {
     "data": {
      "text/plain": [
       "'C:/Users/Muhammad Faique/Box/Deep Learning/Project/archive (3)/Data/genres_original/hiphop/hiphop.00011.wav done'"
      ]
     },
     "metadata": {},
     "output_type": "display_data"
    },
    {
     "data": {
      "text/plain": [
       "'C:/Users/Muhammad Faique/Box/Deep Learning/Project/archive (3)/Data/genres_original/hiphop/hiphop.00012.wav done'"
      ]
     },
     "metadata": {},
     "output_type": "display_data"
    },
    {
     "data": {
      "text/plain": [
       "'C:/Users/Muhammad Faique/Box/Deep Learning/Project/archive (3)/Data/genres_original/hiphop/hiphop.00013.wav done'"
      ]
     },
     "metadata": {},
     "output_type": "display_data"
    },
    {
     "data": {
      "text/plain": [
       "'C:/Users/Muhammad Faique/Box/Deep Learning/Project/archive (3)/Data/genres_original/hiphop/hiphop.00014.wav done'"
      ]
     },
     "metadata": {},
     "output_type": "display_data"
    },
    {
     "data": {
      "text/plain": [
       "'C:/Users/Muhammad Faique/Box/Deep Learning/Project/archive (3)/Data/genres_original/hiphop/hiphop.00015.wav done'"
      ]
     },
     "metadata": {},
     "output_type": "display_data"
    },
    {
     "data": {
      "text/plain": [
       "'C:/Users/Muhammad Faique/Box/Deep Learning/Project/archive (3)/Data/genres_original/hiphop/hiphop.00016.wav done'"
      ]
     },
     "metadata": {},
     "output_type": "display_data"
    },
    {
     "data": {
      "text/plain": [
       "'C:/Users/Muhammad Faique/Box/Deep Learning/Project/archive (3)/Data/genres_original/hiphop/hiphop.00017.wav done'"
      ]
     },
     "metadata": {},
     "output_type": "display_data"
    },
    {
     "data": {
      "text/plain": [
       "'C:/Users/Muhammad Faique/Box/Deep Learning/Project/archive (3)/Data/genres_original/hiphop/hiphop.00018.wav done'"
      ]
     },
     "metadata": {},
     "output_type": "display_data"
    },
    {
     "data": {
      "text/plain": [
       "'C:/Users/Muhammad Faique/Box/Deep Learning/Project/archive (3)/Data/genres_original/hiphop/hiphop.00019.wav done'"
      ]
     },
     "metadata": {},
     "output_type": "display_data"
    },
    {
     "data": {
      "text/plain": [
       "'C:/Users/Muhammad Faique/Box/Deep Learning/Project/archive (3)/Data/genres_original/hiphop/hiphop.00020.wav done'"
      ]
     },
     "metadata": {},
     "output_type": "display_data"
    },
    {
     "data": {
      "text/plain": [
       "'C:/Users/Muhammad Faique/Box/Deep Learning/Project/archive (3)/Data/genres_original/jazz/jazz.00000.wav done'"
      ]
     },
     "metadata": {},
     "output_type": "display_data"
    },
    {
     "data": {
      "text/plain": [
       "'C:/Users/Muhammad Faique/Box/Deep Learning/Project/archive (3)/Data/genres_original/jazz/jazz.00001.wav done'"
      ]
     },
     "metadata": {},
     "output_type": "display_data"
    },
    {
     "data": {
      "text/plain": [
       "'C:/Users/Muhammad Faique/Box/Deep Learning/Project/archive (3)/Data/genres_original/jazz/jazz.00002.wav done'"
      ]
     },
     "metadata": {},
     "output_type": "display_data"
    },
    {
     "data": {
      "text/plain": [
       "'C:/Users/Muhammad Faique/Box/Deep Learning/Project/archive (3)/Data/genres_original/jazz/jazz.00003.wav done'"
      ]
     },
     "metadata": {},
     "output_type": "display_data"
    },
    {
     "data": {
      "text/plain": [
       "'C:/Users/Muhammad Faique/Box/Deep Learning/Project/archive (3)/Data/genres_original/jazz/jazz.00004.wav done'"
      ]
     },
     "metadata": {},
     "output_type": "display_data"
    },
    {
     "data": {
      "text/plain": [
       "'C:/Users/Muhammad Faique/Box/Deep Learning/Project/archive (3)/Data/genres_original/jazz/jazz.00005.wav done'"
      ]
     },
     "metadata": {},
     "output_type": "display_data"
    },
    {
     "data": {
      "text/plain": [
       "'C:/Users/Muhammad Faique/Box/Deep Learning/Project/archive (3)/Data/genres_original/jazz/jazz.00006.wav done'"
      ]
     },
     "metadata": {},
     "output_type": "display_data"
    },
    {
     "data": {
      "text/plain": [
       "'C:/Users/Muhammad Faique/Box/Deep Learning/Project/archive (3)/Data/genres_original/jazz/jazz.00007.wav done'"
      ]
     },
     "metadata": {},
     "output_type": "display_data"
    },
    {
     "data": {
      "text/plain": [
       "'C:/Users/Muhammad Faique/Box/Deep Learning/Project/archive (3)/Data/genres_original/jazz/jazz.00008.wav done'"
      ]
     },
     "metadata": {},
     "output_type": "display_data"
    },
    {
     "data": {
      "text/plain": [
       "'C:/Users/Muhammad Faique/Box/Deep Learning/Project/archive (3)/Data/genres_original/jazz/jazz.00009.wav done'"
      ]
     },
     "metadata": {},
     "output_type": "display_data"
    },
    {
     "data": {
      "text/plain": [
       "'C:/Users/Muhammad Faique/Box/Deep Learning/Project/archive (3)/Data/genres_original/jazz/jazz.00010.wav done'"
      ]
     },
     "metadata": {},
     "output_type": "display_data"
    },
    {
     "data": {
      "text/plain": [
       "'C:/Users/Muhammad Faique/Box/Deep Learning/Project/archive (3)/Data/genres_original/jazz/jazz.00011.wav done'"
      ]
     },
     "metadata": {},
     "output_type": "display_data"
    },
    {
     "data": {
      "text/plain": [
       "'C:/Users/Muhammad Faique/Box/Deep Learning/Project/archive (3)/Data/genres_original/jazz/jazz.00012.wav done'"
      ]
     },
     "metadata": {},
     "output_type": "display_data"
    },
    {
     "data": {
      "text/plain": [
       "'C:/Users/Muhammad Faique/Box/Deep Learning/Project/archive (3)/Data/genres_original/jazz/jazz.00013.wav done'"
      ]
     },
     "metadata": {},
     "output_type": "display_data"
    },
    {
     "data": {
      "text/plain": [
       "'C:/Users/Muhammad Faique/Box/Deep Learning/Project/archive (3)/Data/genres_original/jazz/jazz.00014.wav done'"
      ]
     },
     "metadata": {},
     "output_type": "display_data"
    },
    {
     "data": {
      "text/plain": [
       "'C:/Users/Muhammad Faique/Box/Deep Learning/Project/archive (3)/Data/genres_original/jazz/jazz.00015.wav done'"
      ]
     },
     "metadata": {},
     "output_type": "display_data"
    },
    {
     "data": {
      "text/plain": [
       "'C:/Users/Muhammad Faique/Box/Deep Learning/Project/archive (3)/Data/genres_original/jazz/jazz.00016.wav done'"
      ]
     },
     "metadata": {},
     "output_type": "display_data"
    },
    {
     "data": {
      "text/plain": [
       "'C:/Users/Muhammad Faique/Box/Deep Learning/Project/archive (3)/Data/genres_original/jazz/jazz.00017.wav done'"
      ]
     },
     "metadata": {},
     "output_type": "display_data"
    },
    {
     "data": {
      "text/plain": [
       "'C:/Users/Muhammad Faique/Box/Deep Learning/Project/archive (3)/Data/genres_original/jazz/jazz.00018.wav done'"
      ]
     },
     "metadata": {},
     "output_type": "display_data"
    },
    {
     "data": {
      "text/plain": [
       "'C:/Users/Muhammad Faique/Box/Deep Learning/Project/archive (3)/Data/genres_original/jazz/jazz.00019.wav done'"
      ]
     },
     "metadata": {},
     "output_type": "display_data"
    },
    {
     "data": {
      "text/plain": [
       "'C:/Users/Muhammad Faique/Box/Deep Learning/Project/archive (3)/Data/genres_original/jazz/jazz.00020.wav done'"
      ]
     },
     "metadata": {},
     "output_type": "display_data"
    },
    {
     "data": {
      "text/plain": [
       "'C:/Users/Muhammad Faique/Box/Deep Learning/Project/archive (3)/Data/genres_original/metal/metal.00000.wav done'"
      ]
     },
     "metadata": {},
     "output_type": "display_data"
    },
    {
     "data": {
      "text/plain": [
       "'C:/Users/Muhammad Faique/Box/Deep Learning/Project/archive (3)/Data/genres_original/metal/metal.00001.wav done'"
      ]
     },
     "metadata": {},
     "output_type": "display_data"
    },
    {
     "data": {
      "text/plain": [
       "'C:/Users/Muhammad Faique/Box/Deep Learning/Project/archive (3)/Data/genres_original/metal/metal.00002.wav done'"
      ]
     },
     "metadata": {},
     "output_type": "display_data"
    },
    {
     "data": {
      "text/plain": [
       "'C:/Users/Muhammad Faique/Box/Deep Learning/Project/archive (3)/Data/genres_original/metal/metal.00003.wav done'"
      ]
     },
     "metadata": {},
     "output_type": "display_data"
    },
    {
     "data": {
      "text/plain": [
       "'C:/Users/Muhammad Faique/Box/Deep Learning/Project/archive (3)/Data/genres_original/metal/metal.00004.wav done'"
      ]
     },
     "metadata": {},
     "output_type": "display_data"
    },
    {
     "data": {
      "text/plain": [
       "'C:/Users/Muhammad Faique/Box/Deep Learning/Project/archive (3)/Data/genres_original/metal/metal.00005.wav done'"
      ]
     },
     "metadata": {},
     "output_type": "display_data"
    },
    {
     "data": {
      "text/plain": [
       "'C:/Users/Muhammad Faique/Box/Deep Learning/Project/archive (3)/Data/genres_original/metal/metal.00006.wav done'"
      ]
     },
     "metadata": {},
     "output_type": "display_data"
    },
    {
     "data": {
      "text/plain": [
       "'C:/Users/Muhammad Faique/Box/Deep Learning/Project/archive (3)/Data/genres_original/metal/metal.00007.wav done'"
      ]
     },
     "metadata": {},
     "output_type": "display_data"
    },
    {
     "data": {
      "text/plain": [
       "'C:/Users/Muhammad Faique/Box/Deep Learning/Project/archive (3)/Data/genres_original/metal/metal.00008.wav done'"
      ]
     },
     "metadata": {},
     "output_type": "display_data"
    },
    {
     "data": {
      "text/plain": [
       "'C:/Users/Muhammad Faique/Box/Deep Learning/Project/archive (3)/Data/genres_original/metal/metal.00009.wav done'"
      ]
     },
     "metadata": {},
     "output_type": "display_data"
    },
    {
     "data": {
      "text/plain": [
       "'C:/Users/Muhammad Faique/Box/Deep Learning/Project/archive (3)/Data/genres_original/metal/metal.00010.wav done'"
      ]
     },
     "metadata": {},
     "output_type": "display_data"
    },
    {
     "data": {
      "text/plain": [
       "'C:/Users/Muhammad Faique/Box/Deep Learning/Project/archive (3)/Data/genres_original/metal/metal.00011.wav done'"
      ]
     },
     "metadata": {},
     "output_type": "display_data"
    },
    {
     "data": {
      "text/plain": [
       "'C:/Users/Muhammad Faique/Box/Deep Learning/Project/archive (3)/Data/genres_original/metal/metal.00012.wav done'"
      ]
     },
     "metadata": {},
     "output_type": "display_data"
    },
    {
     "data": {
      "text/plain": [
       "'C:/Users/Muhammad Faique/Box/Deep Learning/Project/archive (3)/Data/genres_original/metal/metal.00013.wav done'"
      ]
     },
     "metadata": {},
     "output_type": "display_data"
    },
    {
     "data": {
      "text/plain": [
       "'C:/Users/Muhammad Faique/Box/Deep Learning/Project/archive (3)/Data/genres_original/metal/metal.00014.wav done'"
      ]
     },
     "metadata": {},
     "output_type": "display_data"
    },
    {
     "data": {
      "text/plain": [
       "'C:/Users/Muhammad Faique/Box/Deep Learning/Project/archive (3)/Data/genres_original/metal/metal.00015.wav done'"
      ]
     },
     "metadata": {},
     "output_type": "display_data"
    },
    {
     "data": {
      "text/plain": [
       "'C:/Users/Muhammad Faique/Box/Deep Learning/Project/archive (3)/Data/genres_original/metal/metal.00016.wav done'"
      ]
     },
     "metadata": {},
     "output_type": "display_data"
    },
    {
     "data": {
      "text/plain": [
       "'C:/Users/Muhammad Faique/Box/Deep Learning/Project/archive (3)/Data/genres_original/metal/metal.00017.wav done'"
      ]
     },
     "metadata": {},
     "output_type": "display_data"
    },
    {
     "data": {
      "text/plain": [
       "'C:/Users/Muhammad Faique/Box/Deep Learning/Project/archive (3)/Data/genres_original/metal/metal.00018.wav done'"
      ]
     },
     "metadata": {},
     "output_type": "display_data"
    },
    {
     "data": {
      "text/plain": [
       "'C:/Users/Muhammad Faique/Box/Deep Learning/Project/archive (3)/Data/genres_original/metal/metal.00019.wav done'"
      ]
     },
     "metadata": {},
     "output_type": "display_data"
    },
    {
     "data": {
      "text/plain": [
       "'C:/Users/Muhammad Faique/Box/Deep Learning/Project/archive (3)/Data/genres_original/metal/metal.00020.wav done'"
      ]
     },
     "metadata": {},
     "output_type": "display_data"
    },
    {
     "data": {
      "text/plain": [
       "'C:/Users/Muhammad Faique/Box/Deep Learning/Project/archive (3)/Data/genres_original/pop/pop.00000.wav done'"
      ]
     },
     "metadata": {},
     "output_type": "display_data"
    },
    {
     "data": {
      "text/plain": [
       "'C:/Users/Muhammad Faique/Box/Deep Learning/Project/archive (3)/Data/genres_original/pop/pop.00001.wav done'"
      ]
     },
     "metadata": {},
     "output_type": "display_data"
    },
    {
     "data": {
      "text/plain": [
       "'C:/Users/Muhammad Faique/Box/Deep Learning/Project/archive (3)/Data/genres_original/pop/pop.00002.wav done'"
      ]
     },
     "metadata": {},
     "output_type": "display_data"
    },
    {
     "data": {
      "text/plain": [
       "'C:/Users/Muhammad Faique/Box/Deep Learning/Project/archive (3)/Data/genres_original/pop/pop.00003.wav done'"
      ]
     },
     "metadata": {},
     "output_type": "display_data"
    },
    {
     "data": {
      "text/plain": [
       "'C:/Users/Muhammad Faique/Box/Deep Learning/Project/archive (3)/Data/genres_original/pop/pop.00004.wav done'"
      ]
     },
     "metadata": {},
     "output_type": "display_data"
    },
    {
     "data": {
      "text/plain": [
       "'C:/Users/Muhammad Faique/Box/Deep Learning/Project/archive (3)/Data/genres_original/pop/pop.00005.wav done'"
      ]
     },
     "metadata": {},
     "output_type": "display_data"
    },
    {
     "data": {
      "text/plain": [
       "'C:/Users/Muhammad Faique/Box/Deep Learning/Project/archive (3)/Data/genres_original/pop/pop.00006.wav done'"
      ]
     },
     "metadata": {},
     "output_type": "display_data"
    },
    {
     "data": {
      "text/plain": [
       "'C:/Users/Muhammad Faique/Box/Deep Learning/Project/archive (3)/Data/genres_original/pop/pop.00007.wav done'"
      ]
     },
     "metadata": {},
     "output_type": "display_data"
    },
    {
     "data": {
      "text/plain": [
       "'C:/Users/Muhammad Faique/Box/Deep Learning/Project/archive (3)/Data/genres_original/pop/pop.00008.wav done'"
      ]
     },
     "metadata": {},
     "output_type": "display_data"
    },
    {
     "data": {
      "text/plain": [
       "'C:/Users/Muhammad Faique/Box/Deep Learning/Project/archive (3)/Data/genres_original/pop/pop.00009.wav done'"
      ]
     },
     "metadata": {},
     "output_type": "display_data"
    },
    {
     "data": {
      "text/plain": [
       "'C:/Users/Muhammad Faique/Box/Deep Learning/Project/archive (3)/Data/genres_original/pop/pop.00010.wav done'"
      ]
     },
     "metadata": {},
     "output_type": "display_data"
    },
    {
     "data": {
      "text/plain": [
       "'C:/Users/Muhammad Faique/Box/Deep Learning/Project/archive (3)/Data/genres_original/pop/pop.00011.wav done'"
      ]
     },
     "metadata": {},
     "output_type": "display_data"
    },
    {
     "data": {
      "text/plain": [
       "'C:/Users/Muhammad Faique/Box/Deep Learning/Project/archive (3)/Data/genres_original/pop/pop.00012.wav done'"
      ]
     },
     "metadata": {},
     "output_type": "display_data"
    },
    {
     "data": {
      "text/plain": [
       "'C:/Users/Muhammad Faique/Box/Deep Learning/Project/archive (3)/Data/genres_original/pop/pop.00013.wav done'"
      ]
     },
     "metadata": {},
     "output_type": "display_data"
    },
    {
     "data": {
      "text/plain": [
       "'C:/Users/Muhammad Faique/Box/Deep Learning/Project/archive (3)/Data/genres_original/pop/pop.00014.wav done'"
      ]
     },
     "metadata": {},
     "output_type": "display_data"
    },
    {
     "data": {
      "text/plain": [
       "'C:/Users/Muhammad Faique/Box/Deep Learning/Project/archive (3)/Data/genres_original/pop/pop.00015.wav done'"
      ]
     },
     "metadata": {},
     "output_type": "display_data"
    },
    {
     "data": {
      "text/plain": [
       "'C:/Users/Muhammad Faique/Box/Deep Learning/Project/archive (3)/Data/genres_original/pop/pop.00016.wav done'"
      ]
     },
     "metadata": {},
     "output_type": "display_data"
    },
    {
     "data": {
      "text/plain": [
       "'C:/Users/Muhammad Faique/Box/Deep Learning/Project/archive (3)/Data/genres_original/pop/pop.00017.wav done'"
      ]
     },
     "metadata": {},
     "output_type": "display_data"
    },
    {
     "data": {
      "text/plain": [
       "'C:/Users/Muhammad Faique/Box/Deep Learning/Project/archive (3)/Data/genres_original/pop/pop.00018.wav done'"
      ]
     },
     "metadata": {},
     "output_type": "display_data"
    },
    {
     "data": {
      "text/plain": [
       "'C:/Users/Muhammad Faique/Box/Deep Learning/Project/archive (3)/Data/genres_original/pop/pop.00019.wav done'"
      ]
     },
     "metadata": {},
     "output_type": "display_data"
    },
    {
     "data": {
      "text/plain": [
       "'C:/Users/Muhammad Faique/Box/Deep Learning/Project/archive (3)/Data/genres_original/pop/pop.00020.wav done'"
      ]
     },
     "metadata": {},
     "output_type": "display_data"
    },
    {
     "data": {
      "text/plain": [
       "'C:/Users/Muhammad Faique/Box/Deep Learning/Project/archive (3)/Data/genres_original/reggae/reggae.00000.wav done'"
      ]
     },
     "metadata": {},
     "output_type": "display_data"
    },
    {
     "data": {
      "text/plain": [
       "'C:/Users/Muhammad Faique/Box/Deep Learning/Project/archive (3)/Data/genres_original/reggae/reggae.00001.wav done'"
      ]
     },
     "metadata": {},
     "output_type": "display_data"
    },
    {
     "data": {
      "text/plain": [
       "'C:/Users/Muhammad Faique/Box/Deep Learning/Project/archive (3)/Data/genres_original/reggae/reggae.00002.wav done'"
      ]
     },
     "metadata": {},
     "output_type": "display_data"
    },
    {
     "data": {
      "text/plain": [
       "'C:/Users/Muhammad Faique/Box/Deep Learning/Project/archive (3)/Data/genres_original/reggae/reggae.00003.wav done'"
      ]
     },
     "metadata": {},
     "output_type": "display_data"
    },
    {
     "data": {
      "text/plain": [
       "'C:/Users/Muhammad Faique/Box/Deep Learning/Project/archive (3)/Data/genres_original/reggae/reggae.00004.wav done'"
      ]
     },
     "metadata": {},
     "output_type": "display_data"
    },
    {
     "data": {
      "text/plain": [
       "'C:/Users/Muhammad Faique/Box/Deep Learning/Project/archive (3)/Data/genres_original/reggae/reggae.00005.wav done'"
      ]
     },
     "metadata": {},
     "output_type": "display_data"
    },
    {
     "data": {
      "text/plain": [
       "'C:/Users/Muhammad Faique/Box/Deep Learning/Project/archive (3)/Data/genres_original/reggae/reggae.00006.wav done'"
      ]
     },
     "metadata": {},
     "output_type": "display_data"
    },
    {
     "data": {
      "text/plain": [
       "'C:/Users/Muhammad Faique/Box/Deep Learning/Project/archive (3)/Data/genres_original/reggae/reggae.00007.wav done'"
      ]
     },
     "metadata": {},
     "output_type": "display_data"
    },
    {
     "data": {
      "text/plain": [
       "'C:/Users/Muhammad Faique/Box/Deep Learning/Project/archive (3)/Data/genres_original/reggae/reggae.00008.wav done'"
      ]
     },
     "metadata": {},
     "output_type": "display_data"
    },
    {
     "data": {
      "text/plain": [
       "'C:/Users/Muhammad Faique/Box/Deep Learning/Project/archive (3)/Data/genres_original/reggae/reggae.00009.wav done'"
      ]
     },
     "metadata": {},
     "output_type": "display_data"
    },
    {
     "data": {
      "text/plain": [
       "'C:/Users/Muhammad Faique/Box/Deep Learning/Project/archive (3)/Data/genres_original/reggae/reggae.00010.wav done'"
      ]
     },
     "metadata": {},
     "output_type": "display_data"
    },
    {
     "data": {
      "text/plain": [
       "'C:/Users/Muhammad Faique/Box/Deep Learning/Project/archive (3)/Data/genres_original/reggae/reggae.00011.wav done'"
      ]
     },
     "metadata": {},
     "output_type": "display_data"
    },
    {
     "data": {
      "text/plain": [
       "'C:/Users/Muhammad Faique/Box/Deep Learning/Project/archive (3)/Data/genres_original/reggae/reggae.00012.wav done'"
      ]
     },
     "metadata": {},
     "output_type": "display_data"
    },
    {
     "data": {
      "text/plain": [
       "'C:/Users/Muhammad Faique/Box/Deep Learning/Project/archive (3)/Data/genres_original/reggae/reggae.00013.wav done'"
      ]
     },
     "metadata": {},
     "output_type": "display_data"
    },
    {
     "data": {
      "text/plain": [
       "'C:/Users/Muhammad Faique/Box/Deep Learning/Project/archive (3)/Data/genres_original/reggae/reggae.00014.wav done'"
      ]
     },
     "metadata": {},
     "output_type": "display_data"
    },
    {
     "data": {
      "text/plain": [
       "'C:/Users/Muhammad Faique/Box/Deep Learning/Project/archive (3)/Data/genres_original/reggae/reggae.00015.wav done'"
      ]
     },
     "metadata": {},
     "output_type": "display_data"
    },
    {
     "data": {
      "text/plain": [
       "'C:/Users/Muhammad Faique/Box/Deep Learning/Project/archive (3)/Data/genres_original/reggae/reggae.00016.wav done'"
      ]
     },
     "metadata": {},
     "output_type": "display_data"
    },
    {
     "data": {
      "text/plain": [
       "'C:/Users/Muhammad Faique/Box/Deep Learning/Project/archive (3)/Data/genres_original/reggae/reggae.00017.wav done'"
      ]
     },
     "metadata": {},
     "output_type": "display_data"
    },
    {
     "data": {
      "text/plain": [
       "'C:/Users/Muhammad Faique/Box/Deep Learning/Project/archive (3)/Data/genres_original/reggae/reggae.00018.wav done'"
      ]
     },
     "metadata": {},
     "output_type": "display_data"
    },
    {
     "data": {
      "text/plain": [
       "'C:/Users/Muhammad Faique/Box/Deep Learning/Project/archive (3)/Data/genres_original/reggae/reggae.00019.wav done'"
      ]
     },
     "metadata": {},
     "output_type": "display_data"
    },
    {
     "data": {
      "text/plain": [
       "'C:/Users/Muhammad Faique/Box/Deep Learning/Project/archive (3)/Data/genres_original/reggae/reggae.00020.wav done'"
      ]
     },
     "metadata": {},
     "output_type": "display_data"
    },
    {
     "data": {
      "text/plain": [
       "'C:/Users/Muhammad Faique/Box/Deep Learning/Project/archive (3)/Data/genres_original/rock/rock.00000.wav done'"
      ]
     },
     "metadata": {},
     "output_type": "display_data"
    },
    {
     "data": {
      "text/plain": [
       "'C:/Users/Muhammad Faique/Box/Deep Learning/Project/archive (3)/Data/genres_original/rock/rock.00001.wav done'"
      ]
     },
     "metadata": {},
     "output_type": "display_data"
    },
    {
     "data": {
      "text/plain": [
       "'C:/Users/Muhammad Faique/Box/Deep Learning/Project/archive (3)/Data/genres_original/rock/rock.00002.wav done'"
      ]
     },
     "metadata": {},
     "output_type": "display_data"
    },
    {
     "data": {
      "text/plain": [
       "'C:/Users/Muhammad Faique/Box/Deep Learning/Project/archive (3)/Data/genres_original/rock/rock.00003.wav done'"
      ]
     },
     "metadata": {},
     "output_type": "display_data"
    },
    {
     "data": {
      "text/plain": [
       "'C:/Users/Muhammad Faique/Box/Deep Learning/Project/archive (3)/Data/genres_original/rock/rock.00004.wav done'"
      ]
     },
     "metadata": {},
     "output_type": "display_data"
    },
    {
     "data": {
      "text/plain": [
       "'C:/Users/Muhammad Faique/Box/Deep Learning/Project/archive (3)/Data/genres_original/rock/rock.00005.wav done'"
      ]
     },
     "metadata": {},
     "output_type": "display_data"
    },
    {
     "data": {
      "text/plain": [
       "'C:/Users/Muhammad Faique/Box/Deep Learning/Project/archive (3)/Data/genres_original/rock/rock.00006.wav done'"
      ]
     },
     "metadata": {},
     "output_type": "display_data"
    },
    {
     "data": {
      "text/plain": [
       "'C:/Users/Muhammad Faique/Box/Deep Learning/Project/archive (3)/Data/genres_original/rock/rock.00007.wav done'"
      ]
     },
     "metadata": {},
     "output_type": "display_data"
    },
    {
     "data": {
      "text/plain": [
       "'C:/Users/Muhammad Faique/Box/Deep Learning/Project/archive (3)/Data/genres_original/rock/rock.00008.wav done'"
      ]
     },
     "metadata": {},
     "output_type": "display_data"
    },
    {
     "data": {
      "text/plain": [
       "'C:/Users/Muhammad Faique/Box/Deep Learning/Project/archive (3)/Data/genres_original/rock/rock.00009.wav done'"
      ]
     },
     "metadata": {},
     "output_type": "display_data"
    },
    {
     "data": {
      "text/plain": [
       "'C:/Users/Muhammad Faique/Box/Deep Learning/Project/archive (3)/Data/genres_original/rock/rock.00010.wav done'"
      ]
     },
     "metadata": {},
     "output_type": "display_data"
    },
    {
     "data": {
      "text/plain": [
       "'C:/Users/Muhammad Faique/Box/Deep Learning/Project/archive (3)/Data/genres_original/rock/rock.00011.wav done'"
      ]
     },
     "metadata": {},
     "output_type": "display_data"
    },
    {
     "data": {
      "text/plain": [
       "'C:/Users/Muhammad Faique/Box/Deep Learning/Project/archive (3)/Data/genres_original/rock/rock.00012.wav done'"
      ]
     },
     "metadata": {},
     "output_type": "display_data"
    },
    {
     "data": {
      "text/plain": [
       "'C:/Users/Muhammad Faique/Box/Deep Learning/Project/archive (3)/Data/genres_original/rock/rock.00013.wav done'"
      ]
     },
     "metadata": {},
     "output_type": "display_data"
    },
    {
     "data": {
      "text/plain": [
       "'C:/Users/Muhammad Faique/Box/Deep Learning/Project/archive (3)/Data/genres_original/rock/rock.00014.wav done'"
      ]
     },
     "metadata": {},
     "output_type": "display_data"
    },
    {
     "data": {
      "text/plain": [
       "'C:/Users/Muhammad Faique/Box/Deep Learning/Project/archive (3)/Data/genres_original/rock/rock.00015.wav done'"
      ]
     },
     "metadata": {},
     "output_type": "display_data"
    },
    {
     "data": {
      "text/plain": [
       "'C:/Users/Muhammad Faique/Box/Deep Learning/Project/archive (3)/Data/genres_original/rock/rock.00016.wav done'"
      ]
     },
     "metadata": {},
     "output_type": "display_data"
    },
    {
     "data": {
      "text/plain": [
       "'C:/Users/Muhammad Faique/Box/Deep Learning/Project/archive (3)/Data/genres_original/rock/rock.00017.wav done'"
      ]
     },
     "metadata": {},
     "output_type": "display_data"
    },
    {
     "data": {
      "text/plain": [
       "'C:/Users/Muhammad Faique/Box/Deep Learning/Project/archive (3)/Data/genres_original/rock/rock.00018.wav done'"
      ]
     },
     "metadata": {},
     "output_type": "display_data"
    },
    {
     "data": {
      "text/plain": [
       "'C:/Users/Muhammad Faique/Box/Deep Learning/Project/archive (3)/Data/genres_original/rock/rock.00019.wav done'"
      ]
     },
     "metadata": {},
     "output_type": "display_data"
    },
    {
     "data": {
      "text/plain": [
       "'C:/Users/Muhammad Faique/Box/Deep Learning/Project/archive (3)/Data/genres_original/rock/rock.00020.wav done'"
      ]
     },
     "metadata": {},
     "output_type": "display_data"
    },
    {
     "data": {
      "text/plain": [
       "<matplotlib.pyplot._IonContext at 0x1a5fd4e74f0>"
      ]
     },
     "execution_count": 5,
     "metadata": {},
     "output_type": "execute_result"
    }
   ],
   "source": [
    "#grab audios from folder\n",
    "\n",
    "n = 210 #total number of audio\n",
    "y=[]\n",
    "#y = np.empty((n, 1), dtype = np.uint8)  #classification value for the training set\n",
    "x = [] #initalize the array for dataset\n",
    "mat_x = np.array([[ -1, 0, 1], \n",
    "                   [ 0, 0, 0], \n",
    "                   [ 1, 2, 1]])\n",
    "plt.ioff()  #disable interactive mode of matplotlib off to avoid exploding plots output during the transforming process\n",
    "\n",
    "#for each folder:\n",
    "for l in label:\n",
    "    \n",
    "    #y[label_dict[l] * 10 : ( label_dict[l] + 1 ) * 10] = label_dict[l]      #set the classificaition information\n",
    "    \n",
    "    files = list(os.listdir(f'{general_path}/genres_original/{l}'))           #grab the file list of the class folder\n",
    "    for f in files[0:21]:\n",
    "        a,sr = librosa.load(f'{general_path}/genres_original/{l}/{f}')        #load the audio\n",
    "        a, _ = librosa.effects.trim(a)                                        #trim the audio file\n",
    "        stft = np.abs(librosa.stft(a, n_fft = n_fft, hop_length = hop_length))  #preform the STFT(Short-time Fourier Transform) of the audio \n",
    "        \n",
    "        db = librosa.amplitude_to_db(stft, ref = np.max)                      # convert the spectrogram to db0scaled spectrogram \n",
    "        \n",
    "        plt.figure(figsize = (16,6))\n",
    "        librosa.display.specshow(db, sr = sr, hop_length = hop_length, x_axis = 'off', y_axis = 'off');  #generate the plot\n",
    "        fig = plt.gcf()\n",
    "        \n",
    "        data = fig2cifar(fig)                                                 #generate data via the plot\n",
    "        gray = cv2.cvtColor(data, cv2.COLOR_BGR2GRAY)\n",
    "        filtered_image = cv2.filter2D(gray, -1, mat_x)\n",
    "        y.append([label_dict[l]])\n",
    "        x.append(filtered_image)\n",
    "        plt.close()                                                           #close the plot instance before next iteration\n",
    "        display(f'{general_path}/genres_original/{l}/{f} done')\n",
    "        \n",
    "        \n",
    "x = np.asarray(x, dtype = np.uint8) \n",
    "y = np.asarray(y, dtype = np.uint8)\n",
    "plt.ion()  #enable interactive mode of matplotlib\n",
    "\n"
   ]
  },
  {
   "cell_type": "code",
   "execution_count": 6,
   "id": "4c4119ee",
   "metadata": {},
   "outputs": [],
   "source": [
    "from matplotlib import image\n",
    "from matplotlib import pyplot\n",
    "from sklearn.model_selection import train_test_split"
   ]
  },
  {
   "cell_type": "code",
   "execution_count": 7,
   "id": "7f0616e2",
   "metadata": {},
   "outputs": [
    {
     "data": {
      "text/plain": [
       "array([0, 1, 2, 3, 4, 5, 6, 7, 8, 9], dtype=uint8)"
      ]
     },
     "execution_count": 7,
     "metadata": {},
     "output_type": "execute_result"
    }
   ],
   "source": [
    "np.unique(y)"
   ]
  },
  {
   "cell_type": "code",
   "execution_count": 8,
   "id": "74fbc075",
   "metadata": {},
   "outputs": [],
   "source": [
    "X_train, X_test, y_train, y_test = train_test_split(x, y, test_size=0.25, random_state=42)"
   ]
  },
  {
   "cell_type": "code",
   "execution_count": 9,
   "id": "d205a350",
   "metadata": {},
   "outputs": [
    {
     "data": {
      "image/png": "[encoded data removed]",
      "text/plain": [
       "<Figure size 432x288 with 1 Axes>"
      ]
     },
     "metadata": {
      "needs_background": "light"
     },
     "output_type": "display_data"
    }
   ],
   "source": [
    "pyplot.imshow(x[2])\n",
    "pyplot.show()"
   ]
  },
  {
   "cell_type": "markdown",
   "id": "0160f0a9",
   "metadata": {},
   "source": [
    "# CNN"
   ]
  },
  {
   "cell_type": "code",
   "execution_count": 10,
   "id": "aac22109",
   "metadata": {},
   "outputs": [],
   "source": [
    "#importing the required libraries\n",
    "from tensorflow.keras.datasets import mnist\n",
    "from tensorflow.keras.models import Sequential\n",
    "from tensorflow.keras.layers import Conv2D\n",
    "from tensorflow.keras.layers import MaxPool2D\n",
    "from tensorflow.keras.layers import Flatten\n",
    "from tensorflow.keras.layers import Dropout\n",
    "from tensorflow.keras.layers import Dense"
   ]
  },
  {
   "cell_type": "code",
   "execution_count": 13,
   "id": "3407bf2d",
   "metadata": {},
   "outputs": [
    {
     "name": "stdout",
     "output_type": "stream",
     "text": [
      "(157, 432, 1152)\n",
      "(53, 432, 1152)\n"
     ]
    }
   ],
   "source": [
    "#loading data\n",
    "print(X_train.shape)\n",
    "print(X_test.shape)\n",
    "#normalizing the pixel values\n",
    "X_train=X_train/255\n",
    "X_test=X_test/255"
   ]
  },
  {
   "cell_type": "code",
   "execution_count": 14,
   "id": "93ac3131",
   "metadata": {},
   "outputs": [],
   "source": [
    "from tensorflow.keras import layers\n",
    "from tensorflow.keras import regularizers"
   ]
  },
  {
   "cell_type": "code",
   "execution_count": 15,
   "id": "60c0d3c6",
   "metadata": {
    "scrolled": true
   },
   "outputs": [
    {
     "name": "stdout",
     "output_type": "stream",
     "text": [
      "Epoch 1/20\n",
      "4/4 [==============================] - 38s 8s/step - loss: 33.3746 - accuracy: 0.1009 - val_loss: 5.2524 - val_accuracy: 0.1667\n",
      "Epoch 2/20\n",
      "4/4 [==============================] - 32s 8s/step - loss: 5.6921 - accuracy: 0.0550 - val_loss: 2.3862 - val_accuracy: 0.1250\n",
      "Epoch 3/20\n",
      "4/4 [==============================] - 30s 7s/step - loss: 2.3574 - accuracy: 0.2202 - val_loss: 2.3186 - val_accuracy: 0.1875\n",
      "Epoch 4/20\n",
      "4/4 [==============================] - 34s 8s/step - loss: 2.1271 - accuracy: 0.3761 - val_loss: 2.3595 - val_accuracy: 0.0833\n",
      "Epoch 5/20\n",
      "4/4 [==============================] - 34s 8s/step - loss: 1.6763 - accuracy: 0.5688 - val_loss: 2.1251 - val_accuracy: 0.2708\n",
      "Epoch 6/20\n",
      "4/4 [==============================] - 40s 10s/step - loss: 1.1922 - accuracy: 0.7156 - val_loss: 1.7557 - val_accuracy: 0.3958\n",
      "Epoch 7/20\n",
      "4/4 [==============================] - 37s 9s/step - loss: 0.7109 - accuracy: 0.8440 - val_loss: 4.2720 - val_accuracy: 0.1875\n",
      "Epoch 8/20\n",
      "4/4 [==============================] - 39s 9s/step - loss: 0.8820 - accuracy: 0.7615 - val_loss: 2.2586 - val_accuracy: 0.3750\n",
      "Epoch 9/20\n",
      "4/4 [==============================] - 37s 9s/step - loss: 0.6689 - accuracy: 0.8257 - val_loss: 2.1827 - val_accuracy: 0.4167\n",
      "Epoch 10/20\n",
      "4/4 [==============================] - 34s 8s/step - loss: 0.4586 - accuracy: 0.9083 - val_loss: 2.0691 - val_accuracy: 0.3542\n",
      "Epoch 11/20\n",
      "4/4 [==============================] - 41s 10s/step - loss: 0.4121 - accuracy: 0.9358 - val_loss: 2.2207 - val_accuracy: 0.4792\n",
      "Epoch 12/20\n",
      "4/4 [==============================] - 39s 9s/step - loss: 0.3778 - accuracy: 0.9450 - val_loss: 1.9118 - val_accuracy: 0.4583\n",
      "Epoch 13/20\n",
      "4/4 [==============================] - 43s 11s/step - loss: 0.3471 - accuracy: 0.9450 - val_loss: 1.7730 - val_accuracy: 0.5208\n",
      "Epoch 14/20\n",
      "4/4 [==============================] - 46s 11s/step - loss: 0.3322 - accuracy: 0.9541 - val_loss: 1.7544 - val_accuracy: 0.4792\n",
      "Epoch 15/20\n",
      "4/4 [==============================] - 41s 10s/step - loss: 0.2991 - accuracy: 0.9633 - val_loss: 2.1835 - val_accuracy: 0.4167\n",
      "Epoch 16/20\n",
      "4/4 [==============================] - 38s 10s/step - loss: 0.2832 - accuracy: 0.9725 - val_loss: 2.0394 - val_accuracy: 0.3958\n",
      "Epoch 17/20\n",
      "4/4 [==============================] - 43s 10s/step - loss: 0.2709 - accuracy: 0.9633 - val_loss: 2.0308 - val_accuracy: 0.4375\n",
      "Epoch 18/20\n",
      "4/4 [==============================] - 43s 11s/step - loss: 0.2647 - accuracy: 0.9817 - val_loss: 2.1514 - val_accuracy: 0.4583\n",
      "Epoch 19/20\n",
      "4/4 [==============================] - 41s 10s/step - loss: 0.2627 - accuracy: 0.9908 - val_loss: 1.8522 - val_accuracy: 0.5208\n",
      "Epoch 20/20\n",
      "4/4 [==============================] - 39s 10s/step - loss: 0.2497 - accuracy: 0.9908 - val_loss: 1.6361 - val_accuracy: 0.5417\n"
     ]
    },
    {
     "data": {
      "text/plain": [
       "<keras.callbacks.History at 0x1a58df05190>"
      ]
     },
     "execution_count": 15,
     "metadata": {},
     "output_type": "execute_result"
    }
   ],
   "source": [
    "#defining model\n",
    "model=Sequential()\n",
    "#First convolution layer\n",
    "model.add(Conv2D(16, (5, 5), input_shape=(432, 1152, 1), padding='valid', activation='relu'))\n",
    "#First pooling layer\n",
    "model.add(MaxPool2D((2,2),strides = (2,2)))\n",
    "#Second convolution layer\n",
    "model.add(Conv2D(32, (5, 5), padding='valid', activation='relu'))\n",
    "#Second pooling layer\n",
    "model.add(MaxPool2D((2,2),strides = (2,2)))\n",
    "#Fully connected layer\n",
    "model.add(Flatten())\n",
    "model.add(Dense(100,activation='relu',kernel_regularizer=regularizers.L2(l2=1e-4),activity_regularizer=regularizers.L2(1e-5)))\n",
    "#Output layer\n",
    "model.add(Dense(10,activation='softmax'))\n",
    "#Model Compilation\n",
    "model.compile(loss='sparse_categorical_crossentropy',optimizer='adam',metrics=['accuracy'])\n",
    "#Model Fitting After adding early stoping and validation dataset\n",
    "callback = tf.keras.callbacks.EarlyStopping(monitor='loss', patience=3)\n",
    "model.fit(X_train,y_train,validation_split=0.30,epochs=20,callbacks=[callback])\n",
    "#reference analyticsvidhya.com"
   ]
  },
  {
   "cell_type": "code",
   "execution_count": 16,
   "id": "f062545a",
   "metadata": {},
   "outputs": [
    {
     "name": "stdout",
     "output_type": "stream",
     "text": [
      "2/2 [==============================] - 3s 1s/step - loss: 1.7393 - accuracy: 0.4340\n"
     ]
    },
    {
     "data": {
      "text/plain": [
       "[1.7393426895141602, 0.43396225571632385]"
      ]
     },
     "execution_count": 16,
     "metadata": {},
     "output_type": "execute_result"
    }
   ],
   "source": [
    "#Model Evaluation\n",
    "model.evaluate(X_test,y_test)"
   ]
  }
 ],
 "metadata": {
  "kernelspec": {
   "display_name": "Python 3 (ipykernel)",
   "language": "python",
   "name": "python3"
  },
  "language_info": {
   "codemirror_mode": {
    "name": "ipython",
    "version": 3
   },
   "file_extension": ".py",
   "mimetype": "text/x-python",
   "name": "python",
   "nbconvert_exporter": "python",
   "pygments_lexer": "ipython3",
   "version": "3.9.7"
  }
 },
 "nbformat": 4,
 "nbformat_minor": 5
}
